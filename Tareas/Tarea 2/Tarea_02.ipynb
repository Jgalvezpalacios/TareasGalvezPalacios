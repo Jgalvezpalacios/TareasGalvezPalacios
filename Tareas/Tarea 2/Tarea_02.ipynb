{
  "nbformat": 4,
  "nbformat_minor": 0,
  "metadata": {
    "colab": {
      "provenance": [],
      "toc_visible": true,
      "collapsed_sections": [
        "hT21g6i8tC-k",
        "Cnw_MRT9bNdl"
      ],
      "authorship_tag": "ABX9TyN+wveiTFJbB8XI6NCgZjxA",
      "include_colab_link": true
    },
    "kernelspec": {
      "name": "python3",
      "display_name": "Python 3"
    },
    "language_info": {
      "name": "python"
    }
  },
  "cells": [
    {
      "cell_type": "markdown",
      "metadata": {
        "id": "view-in-github",
        "colab_type": "text"
      },
      "source": [
        "<a href=\"https://colab.research.google.com/github/Jgalvezpalacios/TareasGalvezPalacios/blob/main/Tarea_02.ipynb\" target=\"_parent\"><img src=\"https://colab.research.google.com/assets/colab-badge.svg\" alt=\"Open In Colab\"/></a>"
      ]
    },
    {
      "cell_type": "markdown",
      "source": [
        "#Ejemplos clase\n",
        "\n"
      ],
      "metadata": {
        "id": "hT21g6i8tC-k"
      }
    },
    {
      "cell_type": "code",
      "source": [
        "# Comentarios\n",
        "este_es_un_gato= \"hola\"\n",
        "gato = \"soy un perro\"\n",
        "print(gato)\n",
        "print(\"no soy un gato\")\n",
        "print(10)\n",
        "suma = 10 + 6\n",
        "print(suma)\n",
        "print(\"La sumade 10+6 es \"+ str(suma))\n",
        "diccionario = {'calve': 10, 'clave 2': 'gato'}\n",
        "print(diccionario['clave 2'])"
      ],
      "metadata": {
        "colab": {
          "base_uri": "https://localhost:8080/"
        },
        "id": "qSV0YMgStSca",
        "outputId": "b829f99c-a539-4656-d53d-89eca79a5633"
      },
      "execution_count": null,
      "outputs": [
        {
          "output_type": "stream",
          "name": "stdout",
          "text": [
            "soy un perro\n",
            "no soy un gato\n",
            "10\n",
            "16\n",
            "La sumade 10+6 es 16\n",
            "gato\n"
          ]
        }
      ]
    },
    {
      "cell_type": "code",
      "source": [
        "numero = 100 #int -> integer, entero\n",
        "numero_no_entero = 6.5 #float\n",
        "string =\"hola\" #str -> texto\n",
        "valor_verdadero = True # verdadero\n",
        "valor_falso = False # falso, boolean, bool\n",
        "lista = [10, 5,\"hola\"]\n",
        "lista.append(7)\n",
        "print(lista)\n"
      ],
      "metadata": {
        "colab": {
          "base_uri": "https://localhost:8080/"
        },
        "id": "V3UL4PCkM39-",
        "outputId": "3706c643-1e3e-49ab-e5b7-3350eddf7858"
      },
      "execution_count": null,
      "outputs": [
        {
          "output_type": "stream",
          "name": "stdout",
          "text": [
            "[10, 5, 'hola', 7]\n"
          ]
        }
      ]
    },
    {
      "cell_type": "markdown",
      "source": [
        "operadores"
      ],
      "metadata": {
        "id": "NZwPOj0TPiz_"
      }
    },
    {
      "cell_type": "code",
      "source": [
        "print(1+1)\n",
        "print(2-1)\n",
        "print(2*2)\n",
        "print(10/2) #float\n",
        "print(1 // 2 ) #int\n",
        "print(2 % 3) #fracciones compuestas\n",
        "print(3 % 3)\n"
      ],
      "metadata": {
        "colab": {
          "base_uri": "https://localhost:8080/"
        },
        "id": "NB15lRmWPkqe",
        "outputId": "ce537a27-4131-45dd-d809-4b5ce1d92744"
      },
      "execution_count": null,
      "outputs": [
        {
          "output_type": "stream",
          "name": "stdout",
          "text": [
            "2\n",
            "1\n",
            "4\n",
            "5.0\n",
            "0\n",
            "2\n",
            "0\n"
          ]
        }
      ]
    },
    {
      "cell_type": "markdown",
      "source": [
        "Condicionales"
      ],
      "metadata": {
        "id": "85xlBD4lTPQG"
      }
    },
    {
      "cell_type": "code",
      "source": [
        "a = 1\n",
        "b = 2\n",
        "\n",
        "if a > b:\n",
        "  print('a es mayor que b')\n",
        "elif a < b:\n",
        "  print('a es menor que b')\n",
        "else:\n",
        "  print('a es igual que b')\n",
        "\n",
        "if a != b: #distinto\n",
        "  print(\"a es distinto a b\")\n",
        "\n",
        "if a == b:\n",
        "  print (b)\n"
      ],
      "metadata": {
        "colab": {
          "base_uri": "https://localhost:8080/"
        },
        "id": "IKxejsEFTQtC",
        "outputId": "69d40a40-35d5-4d5e-b844-95af95d8e71c"
      },
      "execution_count": null,
      "outputs": [
        {
          "output_type": "stream",
          "name": "stdout",
          "text": [
            "a es menor que b\n",
            "a es distinto a b\n"
          ]
        }
      ]
    },
    {
      "cell_type": "markdown",
      "source": [
        "Loops"
      ],
      "metadata": {
        "id": "9DcEvW6YaZQ0"
      }
    },
    {
      "cell_type": "code",
      "source": [
        "for i in range(10): # [0, 1, 2, 3, 4, 5, 6, 7, 8, 9]\n",
        "  print(\"hoya, soy \" + str(i))\n",
        "\n",
        "gato = 0\n",
        "\n",
        "while gato < 10:\n",
        "  print (\"soy un gato chico\")\n",
        "  gato += 1\n",
        "  if gato==5:\n",
        "    break\n",
        "  if gato==3:\n",
        "    print(\"soy un gato no tan chico\")\n"
      ],
      "metadata": {
        "colab": {
          "base_uri": "https://localhost:8080/"
        },
        "id": "eo7uF_VtaahG",
        "outputId": "3f8ceb6a-8085-4c4f-ffea-f0f309696234"
      },
      "execution_count": null,
      "outputs": [
        {
          "output_type": "stream",
          "name": "stdout",
          "text": [
            "hoya, soy 0\n",
            "hoya, soy 1\n",
            "hoya, soy 2\n",
            "hoya, soy 3\n",
            "hoya, soy 4\n",
            "hoya, soy 5\n",
            "hoya, soy 6\n",
            "hoya, soy 7\n",
            "hoya, soy 8\n",
            "hoya, soy 9\n",
            "soy un gato chico\n",
            "soy un gato chico\n",
            "soy un gato chico\n",
            "soy un gato no tan chico\n",
            "soy un gato chico\n",
            "soy un gato chico\n"
          ]
        }
      ]
    },
    {
      "cell_type": "markdown",
      "source": [
        "Trabajo clases"
      ],
      "metadata": {
        "id": "PGol5AMbf36R"
      }
    },
    {
      "cell_type": "code",
      "source": [
        "# Calcular la nota final de un estudiante teniendo uen cuenta que:\n",
        "# La primera nota vale el 30% de la nota final\n",
        "# la seugnda vale el 30% de la nota final\n",
        "# el trabajo final vale 40% de la nota final\n",
        "\n",
        "nota_1 = float(input(\"ingresa tu nota 1: \"))\n",
        "nota_2 = float(input(\"ingresa tu nota 2: \"))\n",
        "nota_3 = float(input(\"ingresa tu nota 3: \"))\n",
        "ponderacion = nota_1 * 0.3 + nota_2 * 0.3 + nota_3 * 0.4\n",
        "\n",
        "if ponderacion >= 4:\n",
        "  print(\"aprobaste el curso con un \" + str(ponderacion))\n",
        "elif ponderacion <= 4:\n",
        "  print(\"reprobaste el curso con un \" + str(ponderacion))\n",
        "else:\n",
        "  print(\"error al ingresar los datos\")"
      ],
      "metadata": {
        "id": "b99ThIPhf5wr"
      },
      "execution_count": null,
      "outputs": []
    },
    {
      "cell_type": "markdown",
      "source": [
        "#**Problema 1**\n",
        "Hacer un programa que imprima los números del 1 al 100.\n",
        "\n",
        "---\n",
        "\n"
      ],
      "metadata": {
        "id": "WWu3SUBSbBMz"
      }
    },
    {
      "cell_type": "code",
      "source": [
        "a = 0\n",
        "b = []\n",
        "\n",
        "while a <= 99:\n",
        "  a = a+1\n",
        "  b.append(a)\n",
        "print(b)"
      ],
      "metadata": {
        "colab": {
          "base_uri": "https://localhost:8080/"
        },
        "id": "0eawkIBIjBZo",
        "outputId": "f6aa9d0b-b74f-4a2c-bdb4-0d199e1f4d58"
      },
      "execution_count": null,
      "outputs": [
        {
          "output_type": "stream",
          "name": "stdout",
          "text": [
            "[1, 2, 3, 4, 5, 6, 7, 8, 9, 10, 11, 12, 13, 14, 15, 16, 17, 18, 19, 20, 21, 22, 23, 24, 25, 26, 27, 28, 29, 30, 31, 32, 33, 34, 35, 36, 37, 38, 39, 40, 41, 42, 43, 44, 45, 46, 47, 48, 49, 50, 51, 52, 53, 54, 55, 56, 57, 58, 59, 60, 61, 62, 63, 64, 65, 66, 67, 68, 69, 70, 71, 72, 73, 74, 75, 76, 77, 78, 79, 80, 81, 82, 83, 84, 85, 86, 87, 88, 89, 90, 91, 92, 93, 94, 95, 96, 97, 98, 99, 100]"
          ]
        }
      ]
    },
    {
      "cell_type": "markdown",
      "source": [
        "Defino dos variables:\n",
        "1. \"a\" de tipo int, que comienza en cero.\n",
        "2. \"b\" que es una lista en blanco.\n",
        "\n",
        "Utilizando la funcion _while_ , hago un ciclo hasta que la variable llegue a un maximo de 99.\n",
        "Mientras no se cumpla la condición, se le sumara 1 a la variable \"a\" y se agregara a la lista.\n",
        "\n",
        "El resultado sera una lista que contiene los numeros del 1 al 100."
      ],
      "metadata": {
        "id": "bTy21snUpdhr"
      }
    },
    {
      "cell_type": "code",
      "source": [
        "i = 0\n",
        "for i in range(100):\n",
        "  print (i+1)"
      ],
      "metadata": {
        "id": "a9eQs3KGk0Dr",
        "colab": {
          "base_uri": "https://localhost:8080/"
        },
        "outputId": "511b14cb-d013-4479-ce76-5a328f6a4afb"
      },
      "execution_count": null,
      "outputs": [
        {
          "output_type": "stream",
          "name": "stdout",
          "text": [
            "1 2 3 4 5 6 7 8 9 10 11 12 13 14 15 16 17 18 19 20 21 22 23 24 25 26 27 28 29 30 31 32 33 34 35 36 37 38 39 40 41 42 43 44 45 46 47 48 49 50 51 52 53 54 55 56 57 58 59 60 61 62 63 64 65 66 67 68 69 70 71 72 73 74 75 76 77 78 79 80 81 82 83 84 85 86 87 88 89 90 91 92 93 94 95 96 97 98 99 100 "
          ]
        }
      ]
    },
    {
      "cell_type": "markdown",
      "source": [
        "Defino una variable \"i\", de tipo int, que comienza en cero.\n",
        "\n",
        "Utilizando la función _for_, hago un ciclo de \"i\" en el _range_ de 100.\n",
        "\"i\" correspondera a los numeros del 1 al 100, los cuales seran mostrados en pantalla de manera decendiente."
      ],
      "metadata": {
        "id": "UnIPRhWcqs_4"
      }
    },
    {
      "cell_type": "code",
      "source": [
        "for i in range(100):\n",
        "  print(i+1)"
      ],
      "metadata": {
        "id": "7QmFNlyDuPr7"
      },
      "execution_count": null,
      "outputs": []
    },
    {
      "cell_type": "markdown",
      "source": [
        "#**Problema 2**\n",
        "Hacer un programa que imprima los números del 1 al 100 que sean divisibles entre 3 (con resto 0)\n",
        "\n",
        "---"
      ],
      "metadata": {
        "id": "Cnw_MRT9bNdl"
      }
    },
    {
      "cell_type": "code",
      "source": [
        "i = 0\n",
        "for i in range(100):\n",
        "  if (i+1) % 3 == 0:\n",
        "    print(int(i + 1))\n"
      ],
      "metadata": {
        "id": "EL9h7kHElV64",
        "colab": {
          "base_uri": "https://localhost:8080/"
        },
        "outputId": "00b5f4b2-2732-4045-ff3f-ce5deb50bfcb"
      },
      "execution_count": null,
      "outputs": [
        {
          "output_type": "stream",
          "name": "stdout",
          "text": [
            "3\n",
            "6\n",
            "9\n",
            "12\n",
            "15\n",
            "18\n",
            "21\n",
            "24\n",
            "27\n",
            "30\n",
            "33\n",
            "36\n",
            "39\n",
            "42\n",
            "45\n",
            "48\n",
            "51\n",
            "54\n",
            "57\n",
            "60\n",
            "63\n",
            "66\n",
            "69\n",
            "72\n",
            "75\n",
            "78\n",
            "81\n",
            "84\n",
            "87\n",
            "90\n",
            "93\n",
            "96\n",
            "99\n"
          ]
        }
      ]
    },
    {
      "cell_type": "markdown",
      "source": [
        "Se define una variable \"i\" de tipo _int_ en cero.\n",
        "Utilizando la función _for_, se hace un ciclo que recorra los numeros desde el cero hasta el 99 (_range_(100)). En cada iteración se comprobara si el numero es divisible por 3. En caso de no ser así, este no se mostrara en pantalla.\n",
        "\n",
        "Solo se mostraran los numeros del 1 al 100 que sean divisibles por tres."
      ],
      "metadata": {
        "id": "9XvalhUbu8cv"
      }
    },
    {
      "cell_type": "code",
      "source": [
        "a = 0\n",
        "b = []\n",
        "\n",
        "while a <= 99:\n",
        "  a = a+1\n",
        "  b.append(a)\n",
        "b = [i for i in b if i % 3 == 0]\n",
        "\n",
        "print(b)"
      ],
      "metadata": {
        "colab": {
          "base_uri": "https://localhost:8080/"
        },
        "id": "T53_3DUrrd2D",
        "outputId": "a778ad59-11f0-41f9-d2ed-4e4a25c8a0f5"
      },
      "execution_count": null,
      "outputs": [
        {
          "output_type": "stream",
          "name": "stdout",
          "text": [
            "[3, 6, 9, 12, 15, 18, 21, 24, 27, 30, 33, 36, 39, 42, 45, 48, 51, 54, 57, 60, 63, 66, 69, 72, 75, 78, 81, 84, 87, 90, 93, 96, 99]\n"
          ]
        }
      ]
    },
    {
      "cell_type": "markdown",
      "source": [
        "Defino dos variables:\n",
        "1. \"a\" de tipo int, que comienza en cero.\n",
        "2. \"b\" que es una lista en blanco.\n",
        "\n",
        "Utilizando la funcion while , hago un ciclo hasta que la variable llegue a un maximo de 99. Mientras no se cumpla la condición, se le sumara 1 a la variable \"a\" y se agregara a la lista.\n",
        "\n",
        "Recorro la lista con un ciclo _for_, dejando solo los numeros que tengan resto cero al ser divididos por 3.\n",
        "\n",
        "Muestro en pantalla la lista de los numeros del 1 al 100 que son divisibles por 3."
      ],
      "metadata": {
        "id": "d53NiQZ1wLq7"
      }
    },
    {
      "cell_type": "code",
      "source": [
        "b = [i for i in range(1,100) if i % 3 == 0]\n",
        "print(b)"
      ],
      "metadata": {
        "colab": {
          "base_uri": "https://localhost:8080/"
        },
        "id": "0HOZaLxWwU4j",
        "outputId": "bb5c5e85-084f-4a70-bf56-749ee1638c6b"
      },
      "execution_count": null,
      "outputs": [
        {
          "output_type": "stream",
          "name": "stdout",
          "text": [
            "[3, 6, 9, 12, 15, 18, 21, 24, 27, 30, 33, 36, 39, 42, 45, 48, 51, 54, 57, 60, 63, 66, 69, 72, 75, 78, 81, 84, 87, 90, 93, 96, 99]\n"
          ]
        }
      ]
    },
    {
      "cell_type": "markdown",
      "source": [
        "Recorro con un ciclo _for_, los numeros desde el 1 al 100(_range_(1,100)) dejando solo los numeros que tengan resto cero al ser divididos por 3. Si esto se cumple, los agrego a una lista.\n",
        "\n",
        "Imprimo la lista b (Muestro en pantalla la lista de los numeros del 1 al 100 que son divisibles por 3.)"
      ],
      "metadata": {
        "id": "JfoH0APjyQlA"
      }
    },
    {
      "cell_type": "markdown",
      "source": [
        "#**Problema 3**\n",
        "Pseudocódigo, Sumador y comparador de dos números Realiza el algoritmo para un sumador de dos números. Si el resultado es menor a 100 se mostrará el mensaje \"menor a 100\", si el resultado es mayor a 100, pero menor a 150 mostrará el mensaje \"mayor a 100\", pero si es mayor a 150 mostrará el mensaje \"mayor a 150\".\n",
        "\n",
        "---\n"
      ],
      "metadata": {
        "id": "MG_TmWXUnRaR"
      }
    },
    {
      "cell_type": "code",
      "source": [
        "numero_1 = int(input(\"Ingrese un número: \"))\n",
        "numero_2 = 5\n",
        "suma = numero_1 + numero_2\n",
        "resultado = \"\"\n",
        "\n",
        "if (suma) < 100:\n",
        "  resultado = \"menor a 100\"\n",
        "elif (suma) == 100:\n",
        "  resultado = \"igual a 100\"\n",
        "elif 100 < (suma) and (suma) < 150:\n",
        "  resultado =\"mayor a 100 y menor a 150\"\n",
        "elif (suma) >= 150:\n",
        "  resultado = \"mayor a 150\"\n",
        "\n",
        "print(\"El numero es \" + resultado)"
      ],
      "metadata": {
        "colab": {
          "base_uri": "https://localhost:8080/"
        },
        "id": "LppY8yqwnMf0",
        "outputId": "86fd28b9-d9e5-4b44-802e-33d5ca720313"
      },
      "execution_count": null,
      "outputs": [
        {
          "output_type": "stream",
          "name": "stdout",
          "text": [
            "Ingrese un número: 100\n",
            "El numero es mayor a 100 y menor a 150\n"
          ]
        }
      ]
    },
    {
      "cell_type": "markdown",
      "source": [
        "Se define cuatro variables:\n",
        "1. numero_1: Variable de tipo int que pide un input, este corresponde a un numero x ingresado por el usuario.\n",
        "2. numero_2: Variable tipo int de valor 5.\n",
        "3. suma: Variable tipo int, que suma numero_1 y numero_2.\n",
        "4. resultado: Variable tipo str, se encuentra vacio.\n",
        "\n",
        "Primero, se revisa si suma es menor a 100. En caso de ser igual, resultado pasara a tener el valor de \"menor a 100\".\n",
        "\n",
        "Despues, se revisa si suma es igual a 100. En el caso de ser igual, el resultado pasara a tener el valor de \"es igual a 100\".\n",
        "\n",
        "Se revisa si la suma es igual mayor a 100 y menor a 150. En el caso de ser igual, el resultado pasara a tener el valor de \"mayor a 100 y menor a 150\".\n",
        "\n",
        "Finalmente, se revisa si suma es mayor a 150. En el caso de ser mayor o igual, el resultado pasara a tener el valor de \"mayor a 150\".\n",
        "\n",
        "**Se imprime el str \"El numero es \" más el valor del resultado.**"
      ],
      "metadata": {
        "id": "curYcbVZyyBL"
      }
    },
    {
      "cell_type": "markdown",
      "source": [
        "#**Problema 4**\n",
        "###Pseudocódigo, Calculador de promedio.\n",
        "Generar un programa que combine variables, tipos de datos y una condicional en Python (hacer una función que evalúe si el usuario es mayor de edad y si le gusta la programación, que envíe diferentes textos según la respuesta del usuario)\n",
        "\n",
        "---"
      ],
      "metadata": {
        "id": "X-YtA_NtbvMb"
      }
    },
    {
      "cell_type": "code",
      "source": [
        "usuario = str(input(\"¿Cuál es tu nombre?: \"))\n",
        "edad = int(input(\"Ingrese edad: \"))\n",
        "programacion = str(input(\"¿Te gusta la programación? (si o no): \")).lower().strip()\n",
        "datos = []\n",
        "datos.append(usuario)\n",
        "\n",
        "if edad >= 18:\n",
        "  datos.append(\" es mayor de edad\")\n",
        "else:\n",
        "  datos.append(\"es menor de edad\")\n",
        "\n",
        "if programacion == \"si\":\n",
        "  datos.append(\" y le gusta programar\")\n",
        "else:\n",
        "  datos.append(\" y no le gusta programar\")\n",
        "\n",
        "respuesta = \"\".join(datos)\n",
        "print(respuesta)"
      ],
      "metadata": {
        "colab": {
          "base_uri": "https://localhost:8080/"
        },
        "id": "95fFIcIHbw5S",
        "outputId": "ce7e1c8e-a088-4a27-b0b6-fde745d021b6"
      },
      "execution_count": null,
      "outputs": [
        {
          "output_type": "stream",
          "name": "stdout",
          "text": [
            "¿Cuál es tu nombre?: jorge\n",
            "Ingrese edad: 26\n",
            "¿Te gusta la programación? (si o no): si\n",
            "['jorge', ' es mayor de edad', ' y le gusta programar']\n",
            "jorge es mayor de edad y le gusta programar\n"
          ]
        }
      ]
    },
    {
      "cell_type": "markdown",
      "source": [
        "#Primera prueba (lapsus donde olvide que podia usar un str en vez de una lista)\n",
        "\n",
        "Defino cuatro variables:\n",
        "1. usuario: variable de tipo str, que pregunta al usuario \"¿Cuál es tu nombre?:\"\n",
        "2. edad: variable tipo int, que pide al usuario \"Ingrese edad:\"\n",
        "3. programacion: variable tipo str, que pregunta al usuario \"¿Te gusta la programación? (si o no): \". Ademas de esto, la respuesta que reciba, pasara por la función .lower(), que transformara todas las letras en minusculas. Por otra parte, la función .strip() eliminara cualquier espacio de la respuesta. Esto con el fin de que la respuesta calce con la condición (si o no en minuscula).\n",
        "4. datos: contiene una lista vacia\n",
        "\n",
        "Utilizando la funcion .append, se agrega el resultado de usuarios a la lista datos.\n",
        "\n",
        "Se revisa si la variable edad es mayor o igual a 18. En el caso de cumplirse la condición, se agregara al final de la lista datos, el str que dice \"es mayor de edad\". En caso de no cumplirse la condición, se agregara al final de la lista datos el str que dice \"es menor de edad\".\n",
        "\n",
        "Se revisa si programacion es igual a si. En el caso de cumplirse la condición, se agregara al final de la lista datos el str que dice \" y le gusta programar\".\n",
        "En el caso de no cumplirse la condición, se agregara al final de la lista datos el str que dice \" y no le gusta programar\".\n",
        "\n",
        "Se utiliza la función .join, para transformar los datos de la lista respuestas, a un str.\n",
        "\n",
        "**Se imprime respuestas**"
      ],
      "metadata": {
        "id": "zT1AWh66aohu"
      }
    },
    {
      "cell_type": "code",
      "source": [
        "usuario = str(input(\"¿Cuál es tu nombre?: \"))\n",
        "edad = int(input(\"Ingrese edad: \"))\n",
        "programacion = str(input(\"¿Te gusta la programación? (si o no): \")).lower().strip()\n",
        "datos = usuario\n",
        "\n",
        "if edad >= 18:\n",
        "  datos = datos + \" es mayor de edad\"\n",
        "else:\n",
        "  datos = datos + \"es menor de edad\"\n",
        "\n",
        "if programacion == \"si\":\n",
        "  datos = datos + \" y le gusta programar\"\n",
        "else:\n",
        "  datos = datos + \" y no le gusta programar\"\n",
        "\n",
        "print(datos)"
      ],
      "metadata": {
        "colab": {
          "base_uri": "https://localhost:8080/"
        },
        "id": "9mkjZmCDg_zf",
        "outputId": "59384506-4d10-4459-bb80-d8862d8f5284"
      },
      "execution_count": 2,
      "outputs": [
        {
          "output_type": "stream",
          "name": "stdout",
          "text": [
            "¿Cuál es tu nombre?: Jorge\n",
            "Ingrese edad: 26\n",
            "¿Te gusta la programación? (si o no): si\n",
            "Jorge es mayor de edad y le gusta programar\n"
          ]
        }
      ]
    },
    {
      "cell_type": "markdown",
      "source": [
        "#Segunda prueba (utilizando string)\n",
        "\n",
        "Defino cuatro variables:\n",
        "1. usuario: variable de tipo str, que pregunta al usuario \"¿Cuál es tu nombre?:\"\n",
        "2. edad: variable tipo int, que pide al usuario \"Ingrese edad:\"\n",
        "3. programacion: variable tipo str, que pregunta al usuario \"¿Te gusta la programación? (si o no): \". Ademas de esto, la respuesta que reciba, pasara por la función .lower(), que transformara todas las letras en minusculas. Por otra parte, la función .strip() eliminara cualquier espacio de la respuesta. Esto con el fin de que la respuesta calce con la condición (si o no en minuscula).\n",
        "4. Declaro la variable \"datos\" y le asigno el valor de \"usuario\"\n",
        "\n",
        "Reviso si la edad es mayor o igual a 18. En el caso de cumplirse la condición, agrego a datos el str \" es mayor de edad\". Si la condición no se cumple, agrego a datos el str \" es menor de edad\".\n",
        "\n",
        "Reviso si programación es igual a \"si\". En el caso de cumplirse la condición, agrego a datos el str \" y le gusta programar. Si la condición no se cumple, agrego a datos el str \" y no le gusta programar\".\n",
        "\n",
        "**Imprimo la variable datos**"
      ],
      "metadata": {
        "id": "ELLiyp-Vo9Af"
      }
    }
  ]
}