{
  "nbformat": 4,
  "nbformat_minor": 0,
  "metadata": {
    "colab": {
      "provenance": [],
      "mount_file_id": "1UARQlv_tr_0YEiICnXVLmPNQybmiuvei",
      "authorship_tag": "ABX9TyPMmJi7lzqRuJGfnRv/MkjI",
      "include_colab_link": true
    },
    "kernelspec": {
      "name": "python3",
      "display_name": "Python 3"
    },
    "language_info": {
      "name": "python"
    }
  },
  "cells": [
    {
      "cell_type": "markdown",
      "metadata": {
        "id": "view-in-github",
        "colab_type": "text"
      },
      "source": [
        "<a href=\"https://colab.research.google.com/github/Jgalvezpalacios/TareasGalvezPalacios/blob/main/tarea_03.ipynb\" target=\"_parent\"><img src=\"https://colab.research.google.com/assets/colab-badge.svg\" alt=\"Open In Colab\"/></a>"
      ]
    },
    {
      "cell_type": "code",
      "execution_count": 21,
      "metadata": {
        "colab": {
          "base_uri": "https://localhost:8080/"
        },
        "id": "t-KYID5F9y1_",
        "outputId": "0364f241-dc28-4034-9874-2786dddbf1d2"
      },
      "outputs": [
        {
          "output_type": "stream",
          "name": "stdout",
          "text": [
            "      aplicación      fecha    tiempo  aperturas\n",
            "0       whatsapp 2023-10-06  01:31:00        166\n",
            "1         chrome 2023-10-06  00:19:00         43\n",
            "2      instagram 2023-10-06  00:17:00         29\n",
            "3         camara 2023-10-06  00:04:00         20\n",
            "4           word 2023-10-06  00:06:00         13\n",
            "..           ...        ...       ...        ...\n",
            "388         word 2023-10-12  00:00:00          0\n",
            "389      writerp 2023-10-12  00:00:00          0\n",
            "390            x 2023-10-12  00:00:00          0\n",
            "391         zoom 2023-10-12  00:00:00          0\n",
            "392  burger_king 2023-10-12  00:00:00          0\n",
            "\n",
            "[393 rows x 4 columns]\n"
          ]
        }
      ],
      "source": [
        "import pandas as pd\n",
        "\n",
        "#importo la libreria pandas para poder utilizarla\n",
        "df = pd.DataFrame(pd.read_excel(\"/content/drive/MyDrive/Narración grafica/tarea_03/datos grafica.xlsx\"))\n",
        "#señalo la ruta del archivo xlsx y procedo a leerlo\n",
        "\n",
        "df.to_csv(\"/content/drive/MyDrive/Narración grafica/tarea_03/base_datos.csv\", index=False)\n",
        "#convierto el archivo a uno csv en el directorio indicado\n",
        "\n"
      ]
    },
    {
      "cell_type": "code",
      "source": [],
      "metadata": {
        "id": "IwePfFG_EUv6"
      },
      "execution_count": null,
      "outputs": []
    }
  ]
}